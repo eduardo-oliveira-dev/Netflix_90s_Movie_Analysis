{
 "cells": [
  {
   "cell_type": "markdown",
   "id": "f35e355a",
   "metadata": {},
   "source": [
    "<center><img src=\"redpopcorn.jpg\"></center>\n",
    "\n",
    "# Unearthing Nostalgia: An Exploratory Data Analysis of 1990s Movies on Netflix\n",
    "\n",
    "## Project Overview\n",
    "\n",
    "Netflix, evolving from a DVD rental service in 1997, has become a global entertainment giant. This project delves into Netflix's extensive dataset to specifically investigate movies released in the 1990s. As a production company specializing in nostalgic styles, the goal is to uncover trends, characteristics, and popular features of films from this iconic decade available on the platform.\n",
    "\n",
    "This exploratory data analysis (EDA) aims to answer questions such as:\n",
    "* What were the typical durations of 90s movies on Netflix?\n",
    "* Are there specific genres that were more prevalent or shorter in duration during this period?\n",
    "\n",
    "## The Data\n",
    "\n",
    "The analysis uses the `netflix_data.csv` dataset. Below is a detailed description of its columns:\n",
    "\n",
    "### `netflix_data.csv` Column Definitions\n",
    "\n",
    "| Column       | Description                          |\n",
    "|--------------|--------------------------------------|\n",
    "| `show_id`    | Unique ID for the show               |\n",
    "| `type`       | Type of content (Movie or TV Show)   |\n",
    "| `director`   | Director(s) of the show              |\n",
    "| `cast`       | Main cast members                    |\n",
    "| `country`    | Country of origin                    |\n",
    "| `date_added` | Date the content was added to Netflix|\n",
    "| `release_year`| Original release year of the content|\n",
    "| `duration`   | Duration of the show in minutes (for movies) or seasons (for TV shows) |\n",
    "| `description`| A brief synopsis of the show         |\n",
    "| `genre`      | Primary genre of the show            |"
   ]
  },
  {
   "cell_type": "code",
   "execution_count": 19,
   "id": "5a740255",
   "metadata": {},
   "outputs": [
    {
     "name": "stdout",
     "output_type": "stream",
     "text": [
      "First 5 rows of the dataset:\n",
      "  show_id     type  title           director  \\\n",
      "0      s2    Movie   7:19  Jorge Michel Grau   \n",
      "1      s3    Movie  23:59       Gilbert Chan   \n",
      "2      s4    Movie      9        Shane Acker   \n",
      "3      s5    Movie     21     Robert Luketic   \n",
      "4      s6  TV Show     46        Serdar Akar   \n",
      "\n",
      "                                                cast        country  \\\n",
      "0  Demián Bichir, Héctor Bonilla, Oscar Serrano, ...         Mexico   \n",
      "1  Tedd Chan, Stella Chung, Henley Hii, Lawrence ...      Singapore   \n",
      "2  Elijah Wood, John C. Reilly, Jennifer Connelly...  United States   \n",
      "3  Jim Sturgess, Kevin Spacey, Kate Bosworth, Aar...  United States   \n",
      "4  Erdal Beşikçioğlu, Yasemin Allen, Melis Birkan...         Turkey   \n",
      "\n",
      "          date_added  release_year  duration  \\\n",
      "0  December 23, 2016          2016        93   \n",
      "1  December 20, 2018          2011        78   \n",
      "2  November 16, 2017          2009        80   \n",
      "3    January 1, 2020          2008       123   \n",
      "4       July 1, 2017          2016         1   \n",
      "\n",
      "                                         description             genre  \n",
      "0  After a devastating earthquake hits Mexico Cit...            Dramas  \n",
      "1  When an army recruit is found dead, his fellow...     Horror Movies  \n",
      "2  In a postapocalyptic world, rag-doll robots hi...            Action  \n",
      "3  A brilliant group of students become card-coun...            Dramas  \n",
      "4  A genetics professor experiments with a treatm...  International TV  \n",
      "\n",
      "Dataset Information:\n",
      "<class 'pandas.core.frame.DataFrame'>\n",
      "RangeIndex: 4812 entries, 0 to 4811\n",
      "Data columns (total 11 columns):\n",
      " #   Column        Non-Null Count  Dtype \n",
      "---  ------        --------------  ----- \n",
      " 0   show_id       4812 non-null   object\n",
      " 1   type          4812 non-null   object\n",
      " 2   title         4812 non-null   object\n",
      " 3   director      4812 non-null   object\n",
      " 4   cast          4812 non-null   object\n",
      " 5   country       4812 non-null   object\n",
      " 6   date_added    4812 non-null   object\n",
      " 7   release_year  4812 non-null   int64 \n",
      " 8   duration      4812 non-null   int64 \n",
      " 9   description   4812 non-null   object\n",
      " 10  genre         4812 non-null   object\n",
      "dtypes: int64(2), object(9)\n",
      "memory usage: 413.7+ KB\n"
     ]
    }
   ],
   "source": [
    "import pandas as pd\n",
    "import matplotlib.pyplot as plt\n",
    "import seaborn as sns \n",
    "# Load the Netflix dataset\n",
    "netflix_df = pd.read_csv(\"netflix_data.csv\")\n",
    "\n",
    "# Display the first few rows to understand the data structure\n",
    "print(\"First 5 rows of the dataset:\")\n",
    "print(netflix_df.head())\n",
    "\n",
    "# Display column information and non-null counts\n",
    "print(\"\\nDataset Information:\")\n",
    "netflix_df.info()"
   ]
  },
  {
   "cell_type": "markdown",
   "id": "eba52b79",
   "metadata": {},
   "source": [
    "## Data Preprocessing: Focusing on Movies\n",
    "\n",
    "The dataset contains both movies and TV shows. For this analysis, we are specifically interested in cinematic releases. Therefore, the first step in our preprocessing is to filter the DataFrame to include only entries where the 'type' column is 'Movie'. We also select only the relevant columns for our analysis to keep the DataFrame lean."
   ]
  },
  {
   "cell_type": "code",
   "execution_count": 20,
   "id": "e20aac2e",
   "metadata": {},
   "outputs": [
    {
     "name": "stdout",
     "output_type": "stream",
     "text": [
      "First 5 rows of the movies DataFrame:\n",
      "   title        country          genre  release_year  duration\n",
      "0   7:19         Mexico         Dramas          2016        93\n",
      "1  23:59      Singapore  Horror Movies          2011        78\n",
      "2      9  United States         Action          2009        80\n",
      "3     21  United States         Dramas          2008       123\n",
      "5    122          Egypt  Horror Movies          2019        95\n",
      "\n",
      "Movies DataFrame Information:\n",
      "<class 'pandas.core.frame.DataFrame'>\n",
      "Index: 4677 entries, 0 to 4811\n",
      "Data columns (total 5 columns):\n",
      " #   Column        Non-Null Count  Dtype \n",
      "---  ------        --------------  ----- \n",
      " 0   title         4677 non-null   object\n",
      " 1   country       4677 non-null   object\n",
      " 2   genre         4677 non-null   object\n",
      " 3   release_year  4677 non-null   int64 \n",
      " 4   duration      4677 non-null   int64 \n",
      "dtypes: int64(2), object(3)\n",
      "memory usage: 219.2+ KB\n"
     ]
    }
   ],
   "source": [
    "# Filter out TV shows to focus solely on movies\n",
    "movies_df = netflix_df[netflix_df[\"type\"] == \"Movie\"]\n",
    "\n",
    "# Select relevant columns for movie analysis\n",
    "movies_df = movies_df[[\"title\", \"country\", \"genre\", \"release_year\", \"duration\"]]\n",
    "\n",
    "# Display the first few rows of the filtered movies DataFrame\n",
    "print(\"First 5 rows of the movies DataFrame:\")\n",
    "print(movies_df.head())\n",
    "\n",
    "# Confirm the data types and non-null counts for the filtered DataFrame\n",
    "print(\"\\nMovies DataFrame Information:\")\n",
    "movies_df.info()"
   ]
  },
  {
   "cell_type": "markdown",
   "id": "a1ccebc8",
   "metadata": {},
   "source": [
    "## Isolating the 1990s: A Decade of Interest\n",
    "\n",
    "Our objective is to study movies from the 1990s. We will further filter our `movies_df` to include only those films released between 1990 and 1999 (inclusive) based on the `release_year` column."
   ]
  },
  {
   "cell_type": "code",
   "execution_count": 21,
   "id": "a1eb3d3f",
   "metadata": {},
   "outputs": [
    {
     "name": "stdout",
     "output_type": "stream",
     "text": [
      "First 5 rows of 1990s movies DataFrame:\n",
      "                               title        country     genre  release_year  \\\n",
      "6                                187  United States    Dramas          1997   \n",
      "118                A Dangerous Woman  United States    Dramas          1993   \n",
      "145           A Night at the Roxbury  United States  Comedies          1998   \n",
      "167  A Thin Line Between Love & Hate  United States  Comedies          1996   \n",
      "194                     Aashik Awara          India    Dramas          1993   \n",
      "\n",
      "     duration  \n",
      "6         119  \n",
      "118       101  \n",
      "145        82  \n",
      "167       108  \n",
      "194       154  \n",
      "\n",
      "Total 90s movies in the dataset: 183\n"
     ]
    }
   ],
   "source": [
    "# Filter movies to include only those released in the 1990s\n",
    "movies_90s_df = movies_df[(movies_df[\"release_year\"] >= 1990) & (movies_df[\"release_year\"] <= 1999)]\n",
    "\n",
    "# Display the first few rows of the 90s movies DataFrame\n",
    "print(\"First 5 rows of 1990s movies DataFrame:\")\n",
    "print(movies_90s_df.head())\n",
    "\n",
    "# Check the number of movies from the 90s\n",
    "print(f\"\\nTotal 90s movies in the dataset: {len(movies_90s_df)}\")"
   ]
  }
 ],
 "metadata": {
  "language_info": {
   "name": "python"
  }
 },
 "nbformat": 4,
 "nbformat_minor": 5
}
